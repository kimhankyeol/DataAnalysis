{
 "cells": [
  {
   "cell_type": "code",
   "execution_count": null,
   "metadata": {},
   "outputs": [],
   "source": [
    "import csv #csv 모듈 불러오기\n",
    "f = open('seoul.csv') # seoul.csv 파일 읽기\n",
    "data = csv.reader(f)\n",
    "header = next(data) #맨 윗줄 header 변수에 저장\n",
    "max_temp = -999 #최고 기온\n",
    "max_date = '' #최고 기온이엇던 날짜를 저장할 변수 초기화\n",
    "\n",
    "for row in data : \n",
    "    if row[-1] == '': #만약 데이터가 누락되어서 공백이면 최고기온을 -999 로 지정\n",
    "        row[-1] = -999\n",
    "    row[-1] = float(row[-1]) #문자열로 저장된 최고 기온값을 실수로 변환\n",
    "    if max_temp < row[-1]:  #만약 지금까지 최고 기온보다 더높다면 업데이트\n",
    "        max_date = row[0]\n",
    "        max_temp = row[-1]\n",
    "f.close()\n",
    "print('기상관측 이래 서울의 최고 기온이 높았던 날은 ', max_date+'로',max_temp,'도 였습니다.') #출력"
   ]
  },
  {
   "cell_type": "code",
   "execution_count": 3,
   "metadata": {},
   "outputs": [
    {
     "name": "stdout",
     "output_type": "stream",
     "text": [
      "기상관측 이래 서울의 최고 기온이 높았던 날은  1915-01-13로 -16.3 도 였습니다.\n"
     ]
    }
   ],
   "source": [
    "import csv #csv 모듈 불러오기\n",
    "f = open('seoul.csv') # seoul.csv 파일 읽기\n",
    "data = csv.reader(f)\n",
    "header = next(data) #맨 윗줄 header 변수에 저장\n",
    "min_temp = 100 #최저 기온 초기화 변수\n",
    "min_date = '' #최저 기온이엇던 날짜를 저장할 변수 초기화\n",
    "\n",
    "for row in data : \n",
    "    if row[-1] == '': #만약 데이터가 누락되어서 공백이면 최저기온을 100 로 지정\n",
    "        row[-1] = 100\n",
    "    row[-1] = float(row[-1]) #문자열로 저장된 최저 기온값을 실수로 변환\n",
    "    if min_temp > row[-1]:  #만약 지금까지 최저 기온보다 더낮다면 업데이트\n",
    "        min_date = row[0]\n",
    "        min_temp = row[-1]\n",
    "f.close()\n",
    "print('기상관측 이래 서울의 최저 기온이 낮았던 날은 ', min_date+'로',min_temp,'도 였습니다.') #출력"
   ]
  },
  {
   "cell_type": "code",
   "execution_count": null,
   "metadata": {},
   "outputs": [],
   "source": []
  }
 ],
 "metadata": {
  "kernelspec": {
   "display_name": "Python 3",
   "language": "python",
   "name": "python3"
  },
  "language_info": {
   "codemirror_mode": {
    "name": "ipython",
    "version": 3
   },
   "file_extension": ".py",
   "mimetype": "text/x-python",
   "name": "python",
   "nbconvert_exporter": "python",
   "pygments_lexer": "ipython3",
   "version": "3.7.4"
  }
 },
 "nbformat": 4,
 "nbformat_minor": 2
}
